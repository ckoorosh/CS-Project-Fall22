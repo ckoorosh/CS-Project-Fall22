{
 "cells": [
  {
   "attachments": {},
   "cell_type": "markdown",
   "metadata": {},
   "source": [
    "# Computer Simulation Project\n",
    "Simulating a discrete-event CPU scheduler.\n",
    "\n",
    "**Authors**: <br>\n",
    "Mohammadreza Mofayezi 98106059 <br>\n",
    "Amirhossein Bagheri 98105621"
   ]
  },
  {
   "attachments": {},
   "cell_type": "markdown",
   "metadata": {},
   "source": [
    "## Import Libraries"
   ]
  },
  {
   "cell_type": "code",
   "execution_count": 68,
   "metadata": {},
   "outputs": [],
   "source": [
    "import simpy\n",
    "\n",
    "import pandas as pd\n",
    "import numpy  as np\n",
    "from queue import PriorityQueue\n",
    "\n",
    "from scipy.stats import norm, expon, poisson"
   ]
  },
  {
   "attachments": {},
   "cell_type": "markdown",
   "metadata": {},
   "source": [
    "## Inputs\n",
    "The parameters, number of processes and duration of simulation."
   ]
  },
  {
   "cell_type": "code",
   "execution_count": 2,
   "metadata": {},
   "outputs": [],
   "source": [
    "# parameters\n",
    "X = 0.5\n",
    "Y = 3\n",
    "Z = 10\n",
    "# number of processes\n",
    "N = 50\n",
    "# length of simulation\n",
    "L = 60\n",
    "# task threshold\n",
    "k = 5\n",
    "seed = 1234"
   ]
  },
  {
   "cell_type": "code",
   "execution_count": 18,
   "metadata": {},
   "outputs": [],
   "source": [
    "np.random.seed(seed=seed)"
   ]
  },
  {
   "attachments": {},
   "cell_type": "markdown",
   "metadata": {},
   "source": [
    "## Job Creator"
   ]
  },
  {
   "cell_type": "code",
   "execution_count": 28,
   "metadata": {},
   "outputs": [],
   "source": [
    "class Task:\n",
    "    def __init__(self, id: int):\n",
    "        self.id = id\n",
    "        self.inter_arrival = poisson.rvs(X)\n",
    "        self.service_time = expon.rvs(Y)\n",
    "        self.remaining_service = self.service_time\n",
    "        self.priority = self.get_priority()\n",
    "\n",
    "    def get_priority(self):\n",
    "        return np.random.choice([1, 2, 3], 1, p=[0.1, 0.2, 0.7])[0]\n",
    "\n",
    "    def __eq__(self, __o: object) -> bool:\n",
    "        return self.priority == __o.priority\n",
    "\n",
    "    def __repr__(self) -> str:\n",
    "        return f'Task {self.id} - InterArrival: {self.inter_arrival} - ServiceTime: {self.service_time}'"
   ]
  },
  {
   "cell_type": "code",
   "execution_count": 29,
   "metadata": {},
   "outputs": [],
   "source": [
    "class JobCreator:\n",
    "    def __init__(self, num_tasks: int):\n",
    "        self.num_tasks = num_tasks\n",
    "        self.task = PriorityQueue()\n",
    "\n",
    "    def run(self):\n",
    "        for i in range(self.num_tasks):\n",
    "            task = Task(i)\n",
    "            self.__format__tasks.put((task.priority, task))"
   ]
  },
  {
   "cell_type": "code",
   "execution_count": null,
   "metadata": {},
   "outputs": [],
   "source": [
    "creator = JobCreator(N)\n",
    "creator.run()"
   ]
  },
  {
   "attachments": {},
   "cell_type": "markdown",
   "metadata": {},
   "source": [
    "## Scheduler"
   ]
  },
  {
   "cell_type": "code",
   "execution_count": 25,
   "metadata": {},
   "outputs": [
    {
     "data": {
      "text/plain": [
       "1"
      ]
     },
     "execution_count": 25,
     "metadata": {},
     "output_type": "execute_result"
    }
   ],
   "source": [
    "class Scheduler:\n",
    "    def __init__(self, env):\n",
    "        self.env = env\n",
    "        simpy.Resource(env, )\n",
    "\n",
    "    def job_loader(self):\n",
    "        pass\n",
    "\n",
    "    def dispatcher(self):\n",
    "        pass"
   ]
  }
 ],
 "metadata": {
  "kernelspec": {
   "display_name": "Python 3",
   "language": "python",
   "name": "python3"
  },
  "language_info": {
   "codemirror_mode": {
    "name": "ipython",
    "version": 3
   },
   "file_extension": ".py",
   "mimetype": "text/x-python",
   "name": "python",
   "nbconvert_exporter": "python",
   "pygments_lexer": "ipython3",
   "version": "3.7.9"
  },
  "orig_nbformat": 4,
  "vscode": {
   "interpreter": {
    "hash": "b571288436a41f8e5c94855a4eecd39238b06ee5fe18319ed8aeb9dccd7b83dc"
   }
  }
 },
 "nbformat": 4,
 "nbformat_minor": 2
}
