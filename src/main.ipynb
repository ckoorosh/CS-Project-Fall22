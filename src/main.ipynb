{
 "cells": [
  {
   "attachments": {},
   "cell_type": "markdown",
   "metadata": {},
   "source": [
    "# Computer Simulation Project\n",
    "Simulating a discrete-event CPU scheduler.\n",
    "\n",
    "**Authors**: <br>\n",
    "Mohammadreza Mofayezi 98106059 <br>\n",
    "Amirhossein Bagheri 98105621"
   ]
  },
  {
   "attachments": {},
   "cell_type": "markdown",
   "metadata": {},
   "source": [
    "## Import Libraries"
   ]
  },
  {
   "cell_type": "code",
   "execution_count": 81,
   "metadata": {},
   "outputs": [],
   "source": [
    "import simpy\n",
    "from typing import List\n",
    "\n",
    "import pandas as pd\n",
    "import numpy  as np\n",
    "from queue import PriorityQueue\n",
    "\n",
    "from scipy.stats import norm, expon, poisson"
   ]
  },
  {
   "attachments": {},
   "cell_type": "markdown",
   "metadata": {},
   "source": [
    "## Inputs\n",
    "The parameters, number of processes and duration of simulation."
   ]
  },
  {
   "cell_type": "code",
   "execution_count": 79,
   "metadata": {},
   "outputs": [],
   "source": [
    "# parameters\n",
    "X = 0.2\n",
    "Y = 3\n",
    "Z = 10\n",
    "# number of processes\n",
    "N = 50\n",
    "# length of simulation\n",
    "L = 600\n",
    "# task threshold\n",
    "k = 5\n",
    "seed = 1234\n",
    "T1 = 2\n",
    "T2 = 2"
   ]
  },
  {
   "cell_type": "code",
   "execution_count": 4,
   "metadata": {},
   "outputs": [],
   "source": [
    "np.random.seed(seed=seed)"
   ]
  },
  {
   "attachments": {},
   "cell_type": "markdown",
   "metadata": {},
   "source": [
    "## Job Creator"
   ]
  },
  {
   "cell_type": "code",
   "execution_count": 84,
   "metadata": {},
   "outputs": [],
   "source": [
    "class Task:\n",
    "    def __init__(self, id: int):\n",
    "        self.id = id\n",
    "        self.inter_arrival = int(poisson.rvs(X))\n",
    "        self.service_time = int(expon.rvs(Y))\n",
    "        self.remaining_service = self.service_time\n",
    "        self.priority = self.get_priority()\n",
    "        self.arrival_time = None\n",
    "        self.finish_time = None\n",
    "\n",
    "    def get_priority(self):\n",
    "        return np.random.choice([1, 2, 3], 1, p=[0.1, 0.2, 0.7])[0]\n",
    "\n",
    "    def __eq__(self, __o: object) -> bool:\n",
    "        return self.priority == __o.priority\n",
    "\n",
    "    def __repr__(self) -> str:\n",
    "        return f'Task {self.id} - InterArrival: {self.inter_arrival} - ServiceTime: {self.service_time}'"
   ]
  },
  {
   "cell_type": "code",
   "execution_count": 85,
   "metadata": {},
   "outputs": [],
   "source": [
    "class JobCreator:\n",
    "    def __init__(self, num_tasks: int):\n",
    "        self.num_tasks = num_tasks\n",
    "        self.tasks = PriorityQueue()\n",
    "        self.all_tasks = []\n",
    "\n",
    "    def run(self):\n",
    "        start = 0\n",
    "        task = Task(0)\n",
    "        task.arrival_time = 0\n",
    "        self.tasks.put((task.arrival_time,task.priority, -task.remaining_service, task))\n",
    "        self.all_tasks.append(task)\n",
    "        \n",
    "        for i in range(1,self.num_tasks):\n",
    "            task = Task(i)\n",
    "            start += task.inter_arrival\n",
    "            task.arrival_time = start\n",
    "            self.tasks.put((task.arrival_time,task.priority, -task.remaining_service, task))\n",
    "            self.all_tasks.append(task)\n",
    "\n",
    "    def get_task(self,time: int):\n",
    "        if self.tasks.queue[0][0] <= time:\n",
    "            return self.tasks.get()[-1]\n",
    "        return None\n",
    "    \n",
    "    def empty_job(self):\n",
    "        return self.tasks.empty()\n"
   ]
  },
  {
   "cell_type": "code",
   "execution_count": 89,
   "metadata": {},
   "outputs": [],
   "source": [
    "class Que:\n",
    "    def __init__(self):\n",
    "        self.q = []\n",
    "    \n",
    "    def insert(self,task: Task):\n",
    "        self.q.insert(0,task)\n",
    "    \n",
    "    def __len__(self):\n",
    "        return len(self.q)\n",
    "    \n",
    "    def run(self,time: int):\n",
    "        pass\n",
    "\n",
    "class RR(Que):\n",
    "    def __init__(self, T: int):\n",
    "        super().__init__()\n",
    "        self.T = T\n",
    "\n",
    "class Processor:\n",
    "    def __init__(self, num_tasks: int, maxsimul: int, queues : List):\n",
    "        self.Job_creator = JobCreator(num_tasks)\n",
    "        self.Job_creator.run()\n",
    "        self.queues = queues\n",
    "        self.simultime = 0\n",
    "        self.max_simultime = maxsimul\n",
    "    \n",
    "    def job_loader(self, k: int):\n",
    "        queue = PriorityQueue()\n",
    "        for _ in range(k):\n",
    "            if self.Job_creator.empty_job():\n",
    "                break\n",
    "            task = self.Job_creator.get_task(self.simultime)\n",
    "            if task is None:\n",
    "                break\n",
    "\n",
    "            queue.put((task.priority,-task.remaining_service,task))\n",
    "        \n",
    "        for q in queue.queue:\n",
    "            self.queues[0].insert(q[-1])\n",
    "    \n",
    "    def run(self):\n",
    "        pass\n",
    "\n",
    "\n",
    "    def dispatcher(self):\n",
    "        pass\n",
    "\n",
    "processor = Processor(N, L, [RR(T1),RR(T2),Que()])\n",
    "\n",
    "\n",
    "        "
   ]
  },
  {
   "cell_type": "code",
   "execution_count": 67,
   "metadata": {},
   "outputs": [
    {
     "data": {
      "text/plain": [
       "Task 40 - InterArrival: 0 - ServiceTime: 7"
      ]
     },
     "execution_count": 67,
     "metadata": {},
     "output_type": "execute_result"
    }
   ],
   "source": [
    "creator = JobCreator(N)\n",
    "creator.run()\n",
    "creator.get_task()"
   ]
  },
  {
   "attachments": {},
   "cell_type": "markdown",
   "metadata": {},
   "source": [
    "## Scheduler"
   ]
  },
  {
   "cell_type": "code",
   "execution_count": 25,
   "metadata": {},
   "outputs": [
    {
     "data": {
      "text/plain": [
       "1"
      ]
     },
     "execution_count": 25,
     "metadata": {},
     "output_type": "execute_result"
    }
   ],
   "source": [
    "class Scheduler:\n",
    "    def __init__(self, env):\n",
    "        self.env = env\n",
    "        simpy.Resource(env, )\n",
    "\n",
    "    def job_loader(self):\n",
    "        pass\n",
    "\n",
    "    def dispatcher(self):\n",
    "        pass"
   ]
  }
 ],
 "metadata": {
  "kernelspec": {
   "display_name": "Python 3.10.4 ('ml')",
   "language": "python",
   "name": "python3"
  },
  "language_info": {
   "codemirror_mode": {
    "name": "ipython",
    "version": 3
   },
   "file_extension": ".py",
   "mimetype": "text/x-python",
   "name": "python",
   "nbconvert_exporter": "python",
   "pygments_lexer": "ipython3",
   "version": "3.10.4"
  },
  "orig_nbformat": 4,
  "vscode": {
   "interpreter": {
    "hash": "9a69cfbab24ca69f4d4f629c6cfbb9c1ea54a1f8a547c9ff92536f48569ba7f1"
   }
  }
 },
 "nbformat": 4,
 "nbformat_minor": 2
}
